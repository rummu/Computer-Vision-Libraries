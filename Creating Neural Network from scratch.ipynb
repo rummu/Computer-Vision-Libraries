{
 "cells": [
  {
   "cell_type": "code",
   "execution_count": 1,
   "id": "ae0746a3",
   "metadata": {},
   "outputs": [],
   "source": [
    "import pandas as pd"
   ]
  },
  {
   "cell_type": "code",
   "execution_count": 2,
   "id": "e233a234",
   "metadata": {},
   "outputs": [],
   "source": [
    "import numpy as np"
   ]
  },
  {
   "cell_type": "code",
   "execution_count": 3,
   "id": "e7746a45",
   "metadata": {},
   "outputs": [],
   "source": [
    "import matplotlib.pyplot as plt\n",
    "%matplotlib inline"
   ]
  },
  {
   "cell_type": "code",
   "execution_count": 4,
   "id": "28dbcaee",
   "metadata": {},
   "outputs": [],
   "source": [
    "import seaborn as sns\n",
    "sns.set()"
   ]
  },
  {
   "cell_type": "code",
   "execution_count": 5,
   "id": "8767f637",
   "metadata": {},
   "outputs": [],
   "source": [
    "from scipy import optimize"
   ]
  },
  {
   "cell_type": "code",
   "execution_count": 6,
   "id": "7a997d0e",
   "metadata": {},
   "outputs": [],
   "source": [
    "from ipywidgets import *"
   ]
  },
  {
   "cell_type": "code",
   "execution_count": 7,
   "id": "66c30645",
   "metadata": {},
   "outputs": [],
   "source": [
    "from IPython.display import SVG"
   ]
  },
  {
   "cell_type": "code",
   "execution_count": 8,
   "id": "11b6dcee",
   "metadata": {},
   "outputs": [],
   "source": [
    "from sklearn import datasets"
   ]
  },
  {
   "cell_type": "code",
   "execution_count": null,
   "id": "cdeefe68",
   "metadata": {},
   "outputs": [],
   "source": []
  },
  {
   "cell_type": "code",
   "execution_count": 9,
   "id": "5c95217d",
   "metadata": {},
   "outputs": [],
   "source": [
    "AND = pd.DataFrame({ 'x1':(0,0,1,1) ,\n",
    "                     'x2':(0,1,0,1),\n",
    "                     'y':(0,0,0,1)})"
   ]
  },
  {
   "cell_type": "code",
   "execution_count": 10,
   "id": "fbf14046",
   "metadata": {},
   "outputs": [
    {
     "data": {
      "text/html": [
       "<div>\n",
       "<style scoped>\n",
       "    .dataframe tbody tr th:only-of-type {\n",
       "        vertical-align: middle;\n",
       "    }\n",
       "\n",
       "    .dataframe tbody tr th {\n",
       "        vertical-align: top;\n",
       "    }\n",
       "\n",
       "    .dataframe thead th {\n",
       "        text-align: right;\n",
       "    }\n",
       "</style>\n",
       "<table border=\"1\" class=\"dataframe\">\n",
       "  <thead>\n",
       "    <tr style=\"text-align: right;\">\n",
       "      <th></th>\n",
       "      <th>x1</th>\n",
       "      <th>x2</th>\n",
       "      <th>y</th>\n",
       "    </tr>\n",
       "  </thead>\n",
       "  <tbody>\n",
       "    <tr>\n",
       "      <th>0</th>\n",
       "      <td>0</td>\n",
       "      <td>0</td>\n",
       "      <td>0</td>\n",
       "    </tr>\n",
       "    <tr>\n",
       "      <th>1</th>\n",
       "      <td>0</td>\n",
       "      <td>1</td>\n",
       "      <td>0</td>\n",
       "    </tr>\n",
       "    <tr>\n",
       "      <th>2</th>\n",
       "      <td>1</td>\n",
       "      <td>0</td>\n",
       "      <td>0</td>\n",
       "    </tr>\n",
       "    <tr>\n",
       "      <th>3</th>\n",
       "      <td>1</td>\n",
       "      <td>1</td>\n",
       "      <td>1</td>\n",
       "    </tr>\n",
       "  </tbody>\n",
       "</table>\n",
       "</div>"
      ],
      "text/plain": [
       "   x1  x2  y\n",
       "0   0   0  0\n",
       "1   0   1  0\n",
       "2   1   0  0\n",
       "3   1   1  1"
      ]
     },
     "execution_count": 10,
     "metadata": {},
     "output_type": "execute_result"
    }
   ],
   "source": [
    "AND"
   ]
  },
  {
   "cell_type": "code",
   "execution_count": 27,
   "id": "915d54d0",
   "metadata": {},
   "outputs": [],
   "source": [
    "w  = np.random.randn(3)*1e-4"
   ]
  },
  {
   "cell_type": "code",
   "execution_count": 28,
   "id": "3402a37f",
   "metadata": {},
   "outputs": [
    {
     "data": {
      "text/plain": [
       "array([-2.44901825e-05, -5.27784985e-05,  1.18002459e-04])"
      ]
     },
     "execution_count": 28,
     "metadata": {},
     "output_type": "execute_result"
    }
   ],
   "source": [
    "w"
   ]
  },
  {
   "cell_type": "code",
   "execution_count": null,
   "id": "cfb395ac",
   "metadata": {},
   "outputs": [],
   "source": []
  },
  {
   "cell_type": "code",
   "execution_count": 34,
   "id": "b0457f8c",
   "metadata": {},
   "outputs": [],
   "source": [
    "g = lambda inputs , weights: np.where(np.dot(inputs,weights)>0,1,0)\n",
    "\n",
    "#If dot product is greater than 0 print 1 otherwise print 0 "
   ]
  },
  {
   "cell_type": "code",
   "execution_count": 35,
   "id": "27e9b81e",
   "metadata": {},
   "outputs": [
    {
     "data": {
      "text/html": [
       "<div>\n",
       "<style scoped>\n",
       "    .dataframe tbody tr th:only-of-type {\n",
       "        vertical-align: middle;\n",
       "    }\n",
       "\n",
       "    .dataframe tbody tr th {\n",
       "        vertical-align: top;\n",
       "    }\n",
       "\n",
       "    .dataframe thead th {\n",
       "        text-align: right;\n",
       "    }\n",
       "</style>\n",
       "<table border=\"1\" class=\"dataframe\">\n",
       "  <thead>\n",
       "    <tr style=\"text-align: right;\">\n",
       "      <th></th>\n",
       "      <th>x1</th>\n",
       "      <th>x2</th>\n",
       "    </tr>\n",
       "  </thead>\n",
       "  <tbody>\n",
       "    <tr>\n",
       "      <th>0</th>\n",
       "      <td>0</td>\n",
       "      <td>0</td>\n",
       "    </tr>\n",
       "    <tr>\n",
       "      <th>1</th>\n",
       "      <td>0</td>\n",
       "      <td>1</td>\n",
       "    </tr>\n",
       "    <tr>\n",
       "      <th>2</th>\n",
       "      <td>1</td>\n",
       "      <td>0</td>\n",
       "    </tr>\n",
       "    <tr>\n",
       "      <th>3</th>\n",
       "      <td>1</td>\n",
       "      <td>1</td>\n",
       "    </tr>\n",
       "  </tbody>\n",
       "</table>\n",
       "</div>"
      ],
      "text/plain": [
       "   x1  x2\n",
       "0   0   0\n",
       "1   0   1\n",
       "2   1   0\n",
       "3   1   1"
      ]
     },
     "execution_count": 35,
     "metadata": {},
     "output_type": "execute_result"
    }
   ],
   "source": [
    "inputs = AND[['x1','x2']]\n",
    "inputs"
   ]
  },
  {
   "cell_type": "code",
   "execution_count": 36,
   "id": "ad4d8ce5",
   "metadata": {},
   "outputs": [
    {
     "data": {
      "text/plain": [
       "array([[-1.],\n",
       "       [-1.],\n",
       "       [-1.],\n",
       "       [-1.]])"
      ]
     },
     "execution_count": 36,
     "metadata": {},
     "output_type": "execute_result"
    }
   ],
   "source": [
    "-np.ones((len(inputs),1))   #Biases   \n",
    "                            # we can use other numbers also other than -1"
   ]
  },
  {
   "cell_type": "code",
   "execution_count": 37,
   "id": "c4766d81",
   "metadata": {},
   "outputs": [
    {
     "data": {
      "text/plain": [
       "array([[ 0.,  0., -1.],\n",
       "       [ 0.,  1., -1.],\n",
       "       [ 1.,  0., -1.],\n",
       "       [ 1.,  1., -1.]])"
      ]
     },
     "execution_count": 37,
     "metadata": {},
     "output_type": "execute_result"
    }
   ],
   "source": [
    "a = np.c_[inputs , -np.ones((len(inputs),1))]\n",
    "a"
   ]
  },
  {
   "cell_type": "code",
   "execution_count": 38,
   "id": "efcf8c5e",
   "metadata": {},
   "outputs": [
    {
     "data": {
      "text/plain": [
       "array([-2.44901825e-05, -5.27784985e-05,  1.18002459e-04])"
      ]
     },
     "execution_count": 38,
     "metadata": {},
     "output_type": "execute_result"
    }
   ],
   "source": [
    "w"
   ]
  },
  {
   "cell_type": "code",
   "execution_count": 39,
   "id": "d2c1cee7",
   "metadata": {},
   "outputs": [
    {
     "data": {
      "text/plain": [
       "array([-0.000118  , -0.00017078, -0.00014249, -0.00019527])"
      ]
     },
     "execution_count": 39,
     "metadata": {},
     "output_type": "execute_result"
    }
   ],
   "source": [
    "np.dot(a,w)  #Dot product a = 4 x 3\n",
    "                        # w = 3 x 1\n",
    "                    # a x w = 4 x 1"
   ]
  },
  {
   "cell_type": "code",
   "execution_count": null,
   "id": "a78f18d7",
   "metadata": {},
   "outputs": [],
   "source": []
  },
  {
   "cell_type": "code",
   "execution_count": 40,
   "id": "9288393f",
   "metadata": {},
   "outputs": [],
   "source": [
    "def train(inputs , targets , weights , eta ,n_iterations):\n",
    "    inputs = np.c_[inputs , -np.ones((len(inputs),1))]\n",
    "    \n",
    "    for n in range(n_iterations):\n",
    "        activations = g(inputs , weights);\n",
    "        print(n,activations)\n",
    "        weights = eta*np.dot(np.transpose(inputs),activations - targets)\n",
    "        print(n,weights)\n",
    " \n",
    "        \n",
    "    return(weights)"
   ]
  },
  {
   "cell_type": "code",
   "execution_count": 41,
   "id": "e06d989f",
   "metadata": {},
   "outputs": [
    {
     "name": "stdout",
     "output_type": "stream",
     "text": [
      "0 [0 0 0 0]\n",
      "0 [-0.3 -0.3  0.3]\n",
      "1 [0 0 0 0]\n",
      "1 [-0.3 -0.3  0.3]\n",
      "2 [0 0 0 0]\n",
      "2 [-0.3 -0.3  0.3]\n",
      "3 [0 0 0 0]\n",
      "3 [-0.3 -0.3  0.3]\n",
      "4 [0 0 0 0]\n",
      "4 [-0.3 -0.3  0.3]\n",
      "5 [0 0 0 0]\n",
      "5 [-0.3 -0.3  0.3]\n",
      "6 [0 0 0 0]\n",
      "6 [-0.3 -0.3  0.3]\n",
      "7 [0 0 0 0]\n",
      "7 [-0.3 -0.3  0.3]\n",
      "8 [0 0 0 0]\n",
      "8 [-0.3 -0.3  0.3]\n",
      "9 [0 0 0 0]\n",
      "9 [-0.3 -0.3  0.3]\n"
     ]
    }
   ],
   "source": [
    "inputs = AND[['x1','x2']]\n",
    "targets = AND['y']\n",
    " \n",
    "w = train(inputs,targets , w,.3 ,10)     #Learning rate = 10"
   ]
  },
  {
   "cell_type": "code",
   "execution_count": 42,
   "id": "e5252b4d",
   "metadata": {},
   "outputs": [],
   "source": [
    "# print(activation,weights)"
   ]
  },
  {
   "cell_type": "code",
   "execution_count": 43,
   "id": "1d4d108b",
   "metadata": {},
   "outputs": [
    {
     "data": {
      "text/plain": [
       "array([-0.3, -0.3,  0.3])"
      ]
     },
     "execution_count": 43,
     "metadata": {},
     "output_type": "execute_result"
    }
   ],
   "source": [
    "w"
   ]
  },
  {
   "cell_type": "code",
   "execution_count": 44,
   "id": "ce57f09d",
   "metadata": {},
   "outputs": [
    {
     "data": {
      "text/plain": [
       "array([0, 0, 0, 0])"
      ]
     },
     "execution_count": 44,
     "metadata": {},
     "output_type": "execute_result"
    }
   ],
   "source": [
    "g(np.c_[inputs , -np.ones((len(inputs),1))],w)  "
   ]
  },
  {
   "cell_type": "code",
   "execution_count": null,
   "id": "8fcfb198",
   "metadata": {},
   "outputs": [],
   "source": []
  },
  {
   "cell_type": "code",
   "execution_count": null,
   "id": "8972b3e5",
   "metadata": {},
   "outputs": [],
   "source": []
  },
  {
   "cell_type": "code",
   "execution_count": null,
   "id": "8a532387",
   "metadata": {},
   "outputs": [],
   "source": []
  },
  {
   "cell_type": "code",
   "execution_count": 45,
   "id": "4f76d92f",
   "metadata": {},
   "outputs": [
    {
     "data": {
      "text/html": [
       "<div>\n",
       "<style scoped>\n",
       "    .dataframe tbody tr th:only-of-type {\n",
       "        vertical-align: middle;\n",
       "    }\n",
       "\n",
       "    .dataframe tbody tr th {\n",
       "        vertical-align: top;\n",
       "    }\n",
       "\n",
       "    .dataframe thead th {\n",
       "        text-align: right;\n",
       "    }\n",
       "</style>\n",
       "<table border=\"1\" class=\"dataframe\">\n",
       "  <thead>\n",
       "    <tr style=\"text-align: right;\">\n",
       "      <th></th>\n",
       "      <th>x1</th>\n",
       "      <th>x2</th>\n",
       "      <th>y</th>\n",
       "    </tr>\n",
       "  </thead>\n",
       "  <tbody>\n",
       "    <tr>\n",
       "      <th>0</th>\n",
       "      <td>0</td>\n",
       "      <td>0</td>\n",
       "      <td>0</td>\n",
       "    </tr>\n",
       "    <tr>\n",
       "      <th>1</th>\n",
       "      <td>0</td>\n",
       "      <td>1</td>\n",
       "      <td>1</td>\n",
       "    </tr>\n",
       "    <tr>\n",
       "      <th>2</th>\n",
       "      <td>1</td>\n",
       "      <td>0</td>\n",
       "      <td>1</td>\n",
       "    </tr>\n",
       "    <tr>\n",
       "      <th>3</th>\n",
       "      <td>1</td>\n",
       "      <td>1</td>\n",
       "      <td>1</td>\n",
       "    </tr>\n",
       "  </tbody>\n",
       "</table>\n",
       "</div>"
      ],
      "text/plain": [
       "   x1  x2  y\n",
       "0   0   0  0\n",
       "1   0   1  1\n",
       "2   1   0  1\n",
       "3   1   1  1"
      ]
     },
     "execution_count": 45,
     "metadata": {},
     "output_type": "execute_result"
    }
   ],
   "source": [
    "OR  = pd.DataFrame({ 'x1':(0,0,1,1) ,\n",
    "                     'x2':(0,1,0,1),\n",
    "                     'y':(0,1,1,1)})\n",
    "OR"
   ]
  },
  {
   "cell_type": "code",
   "execution_count": 46,
   "id": "8bd3ced3",
   "metadata": {},
   "outputs": [
    {
     "data": {
      "text/plain": [
       "array([8.60277377e-05, 1.44156113e-04, 1.01710334e-05])"
      ]
     },
     "execution_count": 46,
     "metadata": {},
     "output_type": "execute_result"
    }
   ],
   "source": [
    "w  = np.random.randn(3)*1e-4\n",
    "w"
   ]
  },
  {
   "cell_type": "code",
   "execution_count": 47,
   "id": "0a1d8914",
   "metadata": {},
   "outputs": [],
   "source": [
    "g = lambda inputs , weights: np.where(np.dot(inputs,weights)>0,1,0)\n",
    "\n",
    "#If dot product is greater than 0 print 1 otherwise print 0 "
   ]
  },
  {
   "cell_type": "code",
   "execution_count": 48,
   "id": "ed8d97e8",
   "metadata": {},
   "outputs": [
    {
     "data": {
      "text/html": [
       "<div>\n",
       "<style scoped>\n",
       "    .dataframe tbody tr th:only-of-type {\n",
       "        vertical-align: middle;\n",
       "    }\n",
       "\n",
       "    .dataframe tbody tr th {\n",
       "        vertical-align: top;\n",
       "    }\n",
       "\n",
       "    .dataframe thead th {\n",
       "        text-align: right;\n",
       "    }\n",
       "</style>\n",
       "<table border=\"1\" class=\"dataframe\">\n",
       "  <thead>\n",
       "    <tr style=\"text-align: right;\">\n",
       "      <th></th>\n",
       "      <th>x1</th>\n",
       "      <th>x2</th>\n",
       "    </tr>\n",
       "  </thead>\n",
       "  <tbody>\n",
       "    <tr>\n",
       "      <th>0</th>\n",
       "      <td>0</td>\n",
       "      <td>0</td>\n",
       "    </tr>\n",
       "    <tr>\n",
       "      <th>1</th>\n",
       "      <td>0</td>\n",
       "      <td>1</td>\n",
       "    </tr>\n",
       "    <tr>\n",
       "      <th>2</th>\n",
       "      <td>1</td>\n",
       "      <td>0</td>\n",
       "    </tr>\n",
       "    <tr>\n",
       "      <th>3</th>\n",
       "      <td>1</td>\n",
       "      <td>1</td>\n",
       "    </tr>\n",
       "  </tbody>\n",
       "</table>\n",
       "</div>"
      ],
      "text/plain": [
       "   x1  x2\n",
       "0   0   0\n",
       "1   0   1\n",
       "2   1   0\n",
       "3   1   1"
      ]
     },
     "execution_count": 48,
     "metadata": {},
     "output_type": "execute_result"
    }
   ],
   "source": [
    "inputs = AND[['x1','x2']]\n",
    "inputs"
   ]
  },
  {
   "cell_type": "code",
   "execution_count": 49,
   "id": "384f1c23",
   "metadata": {},
   "outputs": [
    {
     "data": {
      "text/plain": [
       "array([[-1.],\n",
       "       [-1.],\n",
       "       [-1.],\n",
       "       [-1.]])"
      ]
     },
     "execution_count": 49,
     "metadata": {},
     "output_type": "execute_result"
    }
   ],
   "source": [
    "-np.ones((len(inputs),1))   #Biases   \n",
    "                            # we can use other numbers also other than -1"
   ]
  },
  {
   "cell_type": "code",
   "execution_count": 50,
   "id": "289e0254",
   "metadata": {},
   "outputs": [
    {
     "data": {
      "text/plain": [
       "array([[ 0.,  0., -1.],\n",
       "       [ 0.,  1., -1.],\n",
       "       [ 1.,  0., -1.],\n",
       "       [ 1.,  1., -1.]])"
      ]
     },
     "execution_count": 50,
     "metadata": {},
     "output_type": "execute_result"
    }
   ],
   "source": [
    "a = np.c_[inputs , -np.ones((len(inputs),1))]\n",
    "a"
   ]
  },
  {
   "cell_type": "code",
   "execution_count": 51,
   "id": "1ae8d98f",
   "metadata": {},
   "outputs": [
    {
     "data": {
      "text/plain": [
       "array([8.60277377e-05, 1.44156113e-04, 1.01710334e-05])"
      ]
     },
     "execution_count": 51,
     "metadata": {},
     "output_type": "execute_result"
    }
   ],
   "source": [
    "w"
   ]
  },
  {
   "cell_type": "code",
   "execution_count": 52,
   "id": "caf9a8eb",
   "metadata": {},
   "outputs": [
    {
     "data": {
      "text/plain": [
       "array([-1.01710334e-05,  1.33985079e-04,  7.58567043e-05,  2.20012817e-04])"
      ]
     },
     "execution_count": 52,
     "metadata": {},
     "output_type": "execute_result"
    }
   ],
   "source": [
    "np.dot(a,w)  #Dot product a = 4 x 3\n",
    "                        # w = 3 x 1\n",
    "                    # a x w = 4 x 1"
   ]
  },
  {
   "cell_type": "code",
   "execution_count": 53,
   "id": "4c671422",
   "metadata": {},
   "outputs": [],
   "source": [
    "def train(inputs , targets , weights , eta ,n_iterations):\n",
    "    inputs = np.c_[inputs , -np.ones((len(inputs),1))]\n",
    "    \n",
    "    for n in range(n_iterations):\n",
    "        activations = g(inputs , weights);\n",
    "        print(n,activations)\n",
    "        weights = eta*np.dot(np.transpose(inputs),activations - targets)\n",
    "        print(n,weights)\n",
    " \n",
    "        \n",
    "    return(weights)"
   ]
  },
  {
   "cell_type": "code",
   "execution_count": 55,
   "id": "bc5429f0",
   "metadata": {},
   "outputs": [
    {
     "name": "stdout",
     "output_type": "stream",
     "text": [
      "0 [0 0 0 0]\n",
      "0 [-0.002 -0.002  0.003]\n",
      "1 [0 0 0 0]\n",
      "1 [-0.002 -0.002  0.003]\n",
      "2 [0 0 0 0]\n",
      "2 [-0.002 -0.002  0.003]\n",
      "3 [0 0 0 0]\n",
      "3 [-0.002 -0.002  0.003]\n",
      "4 [0 0 0 0]\n",
      "4 [-0.002 -0.002  0.003]\n",
      "5 [0 0 0 0]\n",
      "5 [-0.002 -0.002  0.003]\n",
      "6 [0 0 0 0]\n",
      "6 [-0.002 -0.002  0.003]\n",
      "7 [0 0 0 0]\n",
      "7 [-0.002 -0.002  0.003]\n",
      "8 [0 0 0 0]\n",
      "8 [-0.002 -0.002  0.003]\n",
      "9 [0 0 0 0]\n",
      "9 [-0.002 -0.002  0.003]\n"
     ]
    }
   ],
   "source": [
    "inputs = OR[['x1','x2']]\n",
    "targets = OR['y']\n",
    " \n",
    "w = train(inputs,targets , w,0.001 ,10)     #Learning rate = 20\n",
    "                                         #iterions = 10"
   ]
  },
  {
   "cell_type": "code",
   "execution_count": 56,
   "id": "d0adb3ec",
   "metadata": {},
   "outputs": [
    {
     "data": {
      "text/plain": [
       "array([-0.002, -0.002,  0.003])"
      ]
     },
     "execution_count": 56,
     "metadata": {},
     "output_type": "execute_result"
    }
   ],
   "source": [
    "w"
   ]
  },
  {
   "cell_type": "code",
   "execution_count": 57,
   "id": "0ac1a354",
   "metadata": {},
   "outputs": [
    {
     "data": {
      "text/plain": [
       "array([0, 0, 0, 0])"
      ]
     },
     "execution_count": 57,
     "metadata": {},
     "output_type": "execute_result"
    }
   ],
   "source": [
    "g(np.c_[inputs , -np.ones((len(inputs),1))],w)  "
   ]
  },
  {
   "cell_type": "code",
   "execution_count": null,
   "id": "bfc5d470",
   "metadata": {},
   "outputs": [],
   "source": []
  },
  {
   "cell_type": "code",
   "execution_count": null,
   "id": "c975f6cf",
   "metadata": {},
   "outputs": [],
   "source": []
  }
 ],
 "metadata": {
  "kernelspec": {
   "display_name": "Python 3 (ipykernel)",
   "language": "python",
   "name": "python3"
  },
  "language_info": {
   "codemirror_mode": {
    "name": "ipython",
    "version": 3
   },
   "file_extension": ".py",
   "mimetype": "text/x-python",
   "name": "python",
   "nbconvert_exporter": "python",
   "pygments_lexer": "ipython3",
   "version": "3.9.7"
  }
 },
 "nbformat": 4,
 "nbformat_minor": 5
}
